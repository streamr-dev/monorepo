{
 "cells": [
  {
   "cell_type": "code",
   "execution_count": 1,
   "id": "638cad30",
   "metadata": {},
   "outputs": [],
   "source": [
    "import numpy as np\n",
    "import pandas as pd\n",
    "import matplotlib.pyplot as plt\n",
    "import os\n",
    "import json"
   ]
  },
  {
   "cell_type": "code",
   "execution_count": 2,
   "id": "268b275f",
   "metadata": {},
   "outputs": [
    {
     "data": {
      "text/html": [
       "<div>\n",
       "<style scoped>\n",
       "    .dataframe tbody tr th:only-of-type {\n",
       "        vertical-align: middle;\n",
       "    }\n",
       "\n",
       "    .dataframe tbody tr th {\n",
       "        vertical-align: top;\n",
       "    }\n",
       "\n",
       "    .dataframe thead th {\n",
       "        text-align: right;\n",
       "    }\n",
       "</style>\n",
       "<table border=\"1\" class=\"dataframe\">\n",
       "  <thead>\n",
       "    <tr style=\"text-align: right;\">\n",
       "      <th></th>\n",
       "      <th>nodes</th>\n",
       "      <th>run</th>\n",
       "      <th>avgRtt</th>\n",
       "      <th>avgTimeToReceiver</th>\n",
       "      <th>avgTimeToRequestor</th>\n",
       "      <th>avgHop</th>\n",
       "    </tr>\n",
       "  </thead>\n",
       "  <tbody>\n",
       "    <tr>\n",
       "      <th>0</th>\n",
       "      <td>1088</td>\n",
       "      <td>0</td>\n",
       "      <td>315.166263</td>\n",
       "      <td>161.871701</td>\n",
       "      <td>153.887691</td>\n",
       "      <td>2.404434</td>\n",
       "    </tr>\n",
       "  </tbody>\n",
       "</table>\n",
       "</div>"
      ],
      "text/plain": [
       "   nodes  run      avgRtt  avgTimeToReceiver  avgTimeToRequestor    avgHop\n",
       "0   1088    0  315.166263         161.871701          153.887691  2.404434"
      ]
     },
     "execution_count": 2,
     "metadata": {},
     "output_type": "execute_result"
    }
   ],
   "source": [
    "file = open(\"/Users/santeri/network-monorepo/packages/trackerless-network/results/routing/2024-12-17T11-37-34-583Z/processed.csv\", \"r\")\n",
    "table = pd.read_csv(file, index_col=None, skipinitialspace=True)\n",
    "df = table.sort_values(['nodes'])\n",
    "df"
   ]
  },
  {
   "cell_type": "code",
   "execution_count": 3,
   "id": "04f31e13",
   "metadata": {},
   "outputs": [
    {
     "name": "stdout",
     "output_type": "stream",
     "text": [
      "       run      avgRtt  avgTimeToReceiver  avgTimeToRequestor    avgHop\n",
      "nodes                                                                  \n",
      "1088     0  315.166263         161.871701          153.887691  2.404434\n"
     ]
    }
   ],
   "source": [
    "grouped = df.groupby(['nodes'])\n",
    "avg = grouped.mean()\n",
    "print(avg)"
   ]
  },
  {
   "cell_type": "code",
   "execution_count": 4,
   "id": "ee70393d",
   "metadata": {},
   "outputs": [
    {
     "data": {
      "image/png": "[encoded data removed]",
      "text/plain": [
       "<Figure size 432x288 with 1 Axes>"
      ]
     },
     "metadata": {
      "needs_background": "light"
     },
     "output_type": "display_data"
    }
   ],
   "source": [
    "f, ax = plt.subplots(1)\n",
    "xdata = avg.axes[0].tolist()\n",
    "ydata = avg['avgRtt']\n",
    "ax.set_title('Mean Routed Request RTT')\n",
    "ax.set_xlabel('Number of nodes')\n",
    "ax.set_ylabel('RTT in ms')\n",
    "ax.plot(xdata, ydata)\n",
    "ax.set_ylim(ymin=0)\n",
    "plt.show(f)"
   ]
  },
  {
   "cell_type": "code",
   "execution_count": 5,
   "id": "ee799740",
   "metadata": {},
   "outputs": [
    {
     "data": {
      "image/png": "[encoded data removed]",
      "text/plain": [
       "<Figure size 432x288 with 1 Axes>"
      ]
     },
     "metadata": {
      "needs_background": "light"
     },
     "output_type": "display_data"
    }
   ],
   "source": [
    "f, ax = plt.subplots(1)\n",
    "xdata = avg.axes[0].tolist()\n",
    "ydata = avg['avgHop']\n",
    "ax.set_title('Mean Number of Hops for Routed Message')\n",
    "ax.set_xlabel('Number of nodes')\n",
    "ax.set_ylabel('Number of hops')\n",
    "ax.plot(xdata, ydata)\n",
    "ax.set_ylim(ymin=0)\n",
    "plt.show(f)"
   ]
  },
  {
   "cell_type": "code",
   "execution_count": null,
   "id": "976e6875",
   "metadata": {},
   "outputs": [],
   "source": []
  }
 ],
 "metadata": {
  "kernelspec": {
   "display_name": "Python 3",
   "language": "python",
   "name": "python3"
  },
  "language_info": {
   "codemirror_mode": {
    "name": "ipython",
    "version": 3
   },
   "file_extension": ".py",
   "mimetype": "text/x-python",
   "name": "python",
   "nbconvert_exporter": "python",
   "pygments_lexer": "ipython3",
   "version": "3.7.8"
  }
 },
 "nbformat": 4,
 "nbformat_minor": 5
}
