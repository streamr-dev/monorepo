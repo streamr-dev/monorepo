{
 "cells": [
  {
   "cell_type": "code",
   "execution_count": 1,
   "id": "feaba058",
   "metadata": {},
   "outputs": [],
   "source": [
    "import numpy as np\n",
    "import pandas as pd\n",
    "import matplotlib.pyplot as plt\n",
    "import os\n",
    "import json\n"
   ]
  },
  {
   "cell_type": "code",
   "execution_count": 2,
   "id": "fa43aa20",
   "metadata": {},
   "outputs": [
    {
     "data": {
      "text/html": [
       "<div>\n",
       "<style scoped>\n",
       "    .dataframe tbody tr th:only-of-type {\n",
       "        vertical-align: middle;\n",
       "    }\n",
       "\n",
       "    .dataframe tbody tr th {\n",
       "        vertical-align: top;\n",
       "    }\n",
       "\n",
       "    .dataframe thead th {\n",
       "        text-align: right;\n",
       "    }\n",
       "</style>\n",
       "<table border=\"1\" class=\"dataframe\">\n",
       "  <thead>\n",
       "    <tr style=\"text-align: right;\">\n",
       "      <th></th>\n",
       "      <th>nodes</th>\n",
       "      <th>run</th>\n",
       "      <th>propagationTime</th>\n",
       "      <th>hops</th>\n",
       "      <th>messagesReceived</th>\n",
       "      <th>maxHops</th>\n",
       "      <th>maxPropagationTime</th>\n",
       "    </tr>\n",
       "  </thead>\n",
       "  <tbody>\n",
       "    <tr>\n",
       "      <th>3</th>\n",
       "      <td>17</td>\n",
       "      <td>0</td>\n",
       "      <td>139.051471</td>\n",
       "      <td>3.275735</td>\n",
       "      <td>16</td>\n",
       "      <td>3.500000</td>\n",
       "      <td>201.937500</td>\n",
       "    </tr>\n",
       "    <tr>\n",
       "      <th>4</th>\n",
       "      <td>17</td>\n",
       "      <td>1</td>\n",
       "      <td>119.647059</td>\n",
       "      <td>3.209559</td>\n",
       "      <td>16</td>\n",
       "      <td>3.562500</td>\n",
       "      <td>160.000000</td>\n",
       "    </tr>\n",
       "    <tr>\n",
       "      <th>5</th>\n",
       "      <td>17</td>\n",
       "      <td>2</td>\n",
       "      <td>123.779412</td>\n",
       "      <td>3.338235</td>\n",
       "      <td>16</td>\n",
       "      <td>4.000000</td>\n",
       "      <td>234.500000</td>\n",
       "    </tr>\n",
       "    <tr>\n",
       "      <th>11</th>\n",
       "      <td>34</td>\n",
       "      <td>2</td>\n",
       "      <td>147.933155</td>\n",
       "      <td>4.177362</td>\n",
       "      <td>33</td>\n",
       "      <td>4.757576</td>\n",
       "      <td>194.484848</td>\n",
       "    </tr>\n",
       "    <tr>\n",
       "      <th>10</th>\n",
       "      <td>34</td>\n",
       "      <td>1</td>\n",
       "      <td>146.391266</td>\n",
       "      <td>4.270945</td>\n",
       "      <td>33</td>\n",
       "      <td>4.969697</td>\n",
       "      <td>209.272727</td>\n",
       "    </tr>\n",
       "    <tr>\n",
       "      <th>9</th>\n",
       "      <td>34</td>\n",
       "      <td>0</td>\n",
       "      <td>162.751337</td>\n",
       "      <td>4.178253</td>\n",
       "      <td>33</td>\n",
       "      <td>4.818182</td>\n",
       "      <td>248.818182</td>\n",
       "    </tr>\n",
       "    <tr>\n",
       "      <th>17</th>\n",
       "      <td>68</td>\n",
       "      <td>2</td>\n",
       "      <td>209.582748</td>\n",
       "      <td>5.202590</td>\n",
       "      <td>67</td>\n",
       "      <td>5.940299</td>\n",
       "      <td>316.000000</td>\n",
       "    </tr>\n",
       "    <tr>\n",
       "      <th>15</th>\n",
       "      <td>68</td>\n",
       "      <td>0</td>\n",
       "      <td>212.501756</td>\n",
       "      <td>5.079675</td>\n",
       "      <td>67</td>\n",
       "      <td>5.850746</td>\n",
       "      <td>290.582090</td>\n",
       "    </tr>\n",
       "    <tr>\n",
       "      <th>16</th>\n",
       "      <td>68</td>\n",
       "      <td>1</td>\n",
       "      <td>207.870939</td>\n",
       "      <td>4.895961</td>\n",
       "      <td>67</td>\n",
       "      <td>5.492537</td>\n",
       "      <td>277.388060</td>\n",
       "    </tr>\n",
       "    <tr>\n",
       "      <th>0</th>\n",
       "      <td>136</td>\n",
       "      <td>0</td>\n",
       "      <td>237.062200</td>\n",
       "      <td>6.651144</td>\n",
       "      <td>135</td>\n",
       "      <td>8.303704</td>\n",
       "      <td>361.859259</td>\n",
       "    </tr>\n",
       "    <tr>\n",
       "      <th>2</th>\n",
       "      <td>136</td>\n",
       "      <td>2</td>\n",
       "      <td>213.320752</td>\n",
       "      <td>6.618355</td>\n",
       "      <td>135</td>\n",
       "      <td>8.585185</td>\n",
       "      <td>316.088889</td>\n",
       "    </tr>\n",
       "    <tr>\n",
       "      <th>1</th>\n",
       "      <td>136</td>\n",
       "      <td>1</td>\n",
       "      <td>240.604739</td>\n",
       "      <td>5.982190</td>\n",
       "      <td>135</td>\n",
       "      <td>7.266667</td>\n",
       "      <td>323.481481</td>\n",
       "    </tr>\n",
       "    <tr>\n",
       "      <th>6</th>\n",
       "      <td>272</td>\n",
       "      <td>0</td>\n",
       "      <td>235.595846</td>\n",
       "      <td>7.455801</td>\n",
       "      <td>271</td>\n",
       "      <td>9.619926</td>\n",
       "      <td>348.800738</td>\n",
       "    </tr>\n",
       "    <tr>\n",
       "      <th>7</th>\n",
       "      <td>272</td>\n",
       "      <td>1</td>\n",
       "      <td>259.577613</td>\n",
       "      <td>7.186116</td>\n",
       "      <td>271</td>\n",
       "      <td>9.243542</td>\n",
       "      <td>363.431734</td>\n",
       "    </tr>\n",
       "    <tr>\n",
       "      <th>8</th>\n",
       "      <td>272</td>\n",
       "      <td>2</td>\n",
       "      <td>286.388132</td>\n",
       "      <td>7.203020</td>\n",
       "      <td>271</td>\n",
       "      <td>8.749077</td>\n",
       "      <td>393.003690</td>\n",
       "    </tr>\n",
       "    <tr>\n",
       "      <th>12</th>\n",
       "      <td>544</td>\n",
       "      <td>0</td>\n",
       "      <td>284.727559</td>\n",
       "      <td>8.116259</td>\n",
       "      <td>543</td>\n",
       "      <td>10.145488</td>\n",
       "      <td>400.513812</td>\n",
       "    </tr>\n",
       "    <tr>\n",
       "      <th>13</th>\n",
       "      <td>544</td>\n",
       "      <td>1</td>\n",
       "      <td>289.591059</td>\n",
       "      <td>8.363067</td>\n",
       "      <td>543</td>\n",
       "      <td>10.646409</td>\n",
       "      <td>428.414365</td>\n",
       "    </tr>\n",
       "    <tr>\n",
       "      <th>14</th>\n",
       "      <td>544</td>\n",
       "      <td>2</td>\n",
       "      <td>294.483090</td>\n",
       "      <td>8.297628</td>\n",
       "      <td>543</td>\n",
       "      <td>10.747698</td>\n",
       "      <td>469.874770</td>\n",
       "    </tr>\n",
       "  </tbody>\n",
       "</table>\n",
       "</div>"
      ],
      "text/plain": [
       "    nodes  run  propagationTime      hops  messagesReceived    maxHops  \\\n",
       "3      17    0       139.051471  3.275735                16   3.500000   \n",
       "4      17    1       119.647059  3.209559                16   3.562500   \n",
       "5      17    2       123.779412  3.338235                16   4.000000   \n",
       "11     34    2       147.933155  4.177362                33   4.757576   \n",
       "10     34    1       146.391266  4.270945                33   4.969697   \n",
       "9      34    0       162.751337  4.178253                33   4.818182   \n",
       "17     68    2       209.582748  5.202590                67   5.940299   \n",
       "15     68    0       212.501756  5.079675                67   5.850746   \n",
       "16     68    1       207.870939  4.895961                67   5.492537   \n",
       "0     136    0       237.062200  6.651144               135   8.303704   \n",
       "2     136    2       213.320752  6.618355               135   8.585185   \n",
       "1     136    1       240.604739  5.982190               135   7.266667   \n",
       "6     272    0       235.595846  7.455801               271   9.619926   \n",
       "7     272    1       259.577613  7.186116               271   9.243542   \n",
       "8     272    2       286.388132  7.203020               271   8.749077   \n",
       "12    544    0       284.727559  8.116259               543  10.145488   \n",
       "13    544    1       289.591059  8.363067               543  10.646409   \n",
       "14    544    2       294.483090  8.297628               543  10.747698   \n",
       "\n",
       "    maxPropagationTime  \n",
       "3           201.937500  \n",
       "4           160.000000  \n",
       "5           234.500000  \n",
       "11          194.484848  \n",
       "10          209.272727  \n",
       "9           248.818182  \n",
       "17          316.000000  \n",
       "15          290.582090  \n",
       "16          277.388060  \n",
       "0           361.859259  \n",
       "2           316.088889  \n",
       "1           323.481481  \n",
       "6           348.800738  \n",
       "7           363.431734  \n",
       "8           393.003690  \n",
       "12          400.513812  \n",
       "13          428.414365  \n",
       "14          469.874770  "
      ]
     },
     "execution_count": 2,
     "metadata": {},
     "output_type": "execute_result"
    }
   ],
   "source": [
    "file = open(\"/Users/santeri/network-monorepo/packages/trackerless-network/results/propagation/random/processed.csv\", \"r\")\n",
    "table = pd.read_csv(file, index_col=None, skipinitialspace=True)\n",
    "df = table.sort_values(['nodes'])\n",
    "df"
   ]
  },
  {
   "cell_type": "code",
   "execution_count": 3,
   "id": "b51444ed",
   "metadata": {},
   "outputs": [
    {
     "name": "stdout",
     "output_type": "stream",
     "text": [
      "       run  propagationTime      hops  messagesReceived    maxHops  \\\n",
      "nodes                                                                \n",
      "17       1       127.492647  3.274510                16   3.687500   \n",
      "34       1       152.358586  4.208853                33   4.848485   \n",
      "68       1       209.985148  5.059409                67   5.761194   \n",
      "136      1       230.329230  6.417229               135   8.051852   \n",
      "272      1       260.520530  7.281646               271   9.204182   \n",
      "544      1       289.600569  8.258985               543  10.513198   \n",
      "\n",
      "       maxPropagationTime  \n",
      "nodes                      \n",
      "17             198.812500  \n",
      "34             217.525253  \n",
      "68             294.656716  \n",
      "136            333.809877  \n",
      "272            368.412054  \n",
      "544            432.934316  \n"
     ]
    }
   ],
   "source": [
    "grouped = df.groupby(['nodes'])\n",
    "avg = grouped.mean()\n",
    "print(avg)"
   ]
  },
  {
   "cell_type": "code",
   "execution_count": 4,
   "id": "1717cbfa",
   "metadata": {},
   "outputs": [
    {
     "data": {
      "image/png": "[encoded data removed]",
      "text/plain": [
       "<Figure size 432x288 with 1 Axes>"
      ]
     },
     "metadata": {
      "needs_background": "light"
     },
     "output_type": "display_data"
    }
   ],
   "source": [
    "f, ax = plt.subplots(1)\n",
    "xdata = avg.axes[0].tolist()\n",
    "ydata = avg['propagationTime']\n",
    "ax.plot(xdata, ydata)\n",
    "ax.set_ylim(ymin=0)\n",
    "plt.show(f)"
   ]
  },
  {
   "cell_type": "code",
   "execution_count": 5,
   "id": "2f107d1b",
   "metadata": {},
   "outputs": [
    {
     "data": {
      "image/png": "[encoded data removed]",
      "text/plain": [
       "<Figure size 432x288 with 1 Axes>"
      ]
     },
     "metadata": {
      "needs_background": "light"
     },
     "output_type": "display_data"
    }
   ],
   "source": [
    "f, ax = plt.subplots(1)\n",
    "xdata = avg.axes[0].tolist()\n",
    "ydata = avg['hops']\n",
    "ax.plot(xdata, ydata)\n",
    "ax.set_ylim(ymin=0)\n",
    "plt.show(f)"
   ]
  },
  {
   "cell_type": "code",
   "execution_count": 6,
   "id": "352f4849",
   "metadata": {},
   "outputs": [
    {
     "data": {
      "image/png": "[encoded data removed]",
      "text/plain": [
       "<Figure size 432x288 with 1 Axes>"
      ]
     },
     "metadata": {
      "needs_background": "light"
     },
     "output_type": "display_data"
    }
   ],
   "source": [
    "f, ax = plt.subplots(1)\n",
    "xdata = avg.axes[0].tolist()\n",
    "ydata = avg['maxHops']\n",
    "ax.plot(xdata, ydata)\n",
    "ax.set_ylim(ymin=0)\n",
    "plt.show(f)"
   ]
  },
  {
   "cell_type": "code",
   "execution_count": 7,
   "id": "a47c30bc",
   "metadata": {},
   "outputs": [
    {
     "data": {
      "image/png": "[encoded data removed]",
      "text/plain": [
       "<Figure size 432x288 with 1 Axes>"
      ]
     },
     "metadata": {
      "needs_background": "light"
     },
     "output_type": "display_data"
    }
   ],
   "source": [
    "f, ax = plt.subplots(1)\n",
    "xdata = avg.axes[0].tolist()\n",
    "ydata = avg['maxPropagationTime']\n",
    "ax.plot(xdata, ydata)\n",
    "ax.set_ylim(ymin=0)\n",
    "plt.show(f)"
   ]
  }
 ],
 "metadata": {
  "kernelspec": {
   "display_name": "Python 3",
   "language": "python",
   "name": "python3"
  },
  "language_info": {
   "codemirror_mode": {
    "name": "ipython",
    "version": 3
   },
   "file_extension": ".py",
   "mimetype": "text/x-python",
   "name": "python",
   "nbconvert_exporter": "python",
   "pygments_lexer": "ipython3",
   "version": "3.7.8"
  }
 },
 "nbformat": 4,
 "nbformat_minor": 5
}
